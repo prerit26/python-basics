{
  "nbformat": 4,
  "nbformat_minor": 0,
  "metadata": {
    "colab": {
      "provenance": []
    },
    "kernelspec": {
      "name": "python3",
      "display_name": "Python 3"
    },
    "language_info": {
      "name": "python"
    }
  },
  "cells": [
    {
      "cell_type": "markdown",
      "source": [
        "#python basics"
      ],
      "metadata": {
        "id": "QY5E55WxZagw"
      }
    },
    {
      "cell_type": "markdown",
      "source": [
        "theory question answers :-"
      ],
      "metadata": {
        "id": "aJLWUJxipFMT"
      }
    },
    {
      "cell_type": "markdown",
      "source": [
        "1. What is Python, and why is it popular?\n",
        "  - Python is a programming language which is used to create instruction for a computer to follow. It is made in 1991 by Guido van Rossum, and the name python was inspired from movie monty python. The reason python is so popular is :-  \n",
        "    - **Widely used in the industry.** Almost used by almost all fortune 500 companies.\n",
        "    - **Highly used in data industry.** As python is compatible to work with large amount of data processing, data industry uses it well.\n",
        "    - **Python have a lot of libraries.** These group of codes or functions are shared on internet widely and can be quite helpful while coding. approx 137000 libraries in python.\n",
        "    - **Huge active community.** People are actively contributing in this progrzmming language.\n",
        "    - **Ease of learning.** Python is also very easy to learn compared to other programming languages with simple use of indentations, syntax, characters, etc to the point that it feels like writing plain english.\n",
        "    - **Other factors** include frontend uses, backend uses, image processing automation, databases.\n",
        "  \n",
        "  2. What is an interpreter in Python.\n",
        "  -An intepreter in python is the program that converts python code into machine level/low level language.\n",
        "  -Python is an high level language but computer cannot understand a high level language directly like humans can. Machines needs high level language to be converted to low level language which is in the binary form.\n",
        "  \n",
        "  3. What are pre-defined keywords in Python?\n",
        "  - Pre-defined keywords are words that have inherent meaning in the python language.\n",
        "  - The pre-defined keywords are used to write the prgram and the have a pre defined functions that they performs on command due to which they shall not be used as a variable.\n",
        "  - If used instead of variable the real function of the keyword may get erased in the python and the keyword be start acting like a normal variable.\n",
        "  - To not let that happen it is a good practice to not use it as variable.\n",
        "  - example- class, continue, global, if, import, while, for, etc.\n",
        "\n",
        "  4. Can keywords be used as variable names?\n",
        "  - Yes but it will erase pre define function of the keyword.\n",
        "\n",
        "  5. What is mutability in Python?\n",
        "   - Mutability is an attibute which allows us to change the value of an variable after assigning it.\n",
        "  - for example, lists, sets, dictionaries allow mutabilty and tuples, strings are immutable i.e. they can not be changed after assignment of value. Although you can always re assign the whole value instead of mutating it.\n",
        "\n",
        "  6.  Why are lists mutable, but tuples are immutable?\n",
        "  - It is the design of python to make them this way. The benefit of this is that tuples are safer as they cannot be changed but list can be mutated which adds a lot of value who need to change the list items in the code.\n",
        "\n",
        "  7. What is the difference between “==” and “is” operators in Python?\n",
        "  - \"==\" operator checks wheather the both objects are same or not.\n",
        "  for example 5==(6-5)\n",
        "  - \"is\" operator checks wheather if they are in the same memory block or not. Python stores all its information in memory blocks which have long memory location address. \"is\" operator checks wheather the location is same or not.\n",
        "\n",
        "  8.What are logical operators in Python?\n",
        "  - There are 3 logical operators in python :-\n",
        "    - AND\n",
        "    - OR\n",
        "    - NOT\n",
        "  -\"AND\" checks if both the objects are true or not. If both are true then this command is executed.\n",
        "  - \"OR\" checks and executes the command even if one of the object is true.\n",
        "  - \"NOT\" is used to negate a \"and\" or \"or\" command result and proceed with the opposite result.\n",
        "   9. What is type casting in Python?\n",
        "   - There are different types of values and inputs in python. some examples are string, integers, float, none, boolean, etc\n",
        "   - There is a specific pre defined keyword in python that helps us to enquire the type of the value. This keyword is type().\n",
        "   -The output produce will tell the type if done with print() command.\n",
        "\n",
        "   10. What is the difference between implicit and explicit type casting.\n",
        "   - implicit type casting is change in type of a variable that happens automatically by the python and need not need user interference.\n",
        "   - for example when user tries to add a float to an integer.\n",
        "   - Explicit type casting happens when user gives command to convert one type to another type of data. An example can be when integer value is converted to boolean value.\n",
        "\n",
        "   11. What is the purpose of conditional statements in Python?\n",
        "   - Conditional statement are made by these 3 keywords mainly :-\n",
        "      - if\n",
        "      -elif\n",
        "      -else\n",
        "   - These statement are used to specify the conditions or requirement of running its assigned codes. So we can ask to run some specific codes if some specific values are correct.\n",
        "   - Otherwise we can ask to run some other codes.\n",
        "\n",
        "   12. How does the elif statement work?\n",
        "   - The elif statement in Python means \"else if\" and is used to check multiple conditions sequentially after an if statement. If the if condition is False, Python evaluates the elif condition then.\n",
        "   - When a condition evaluates to True, its block of code executes, and the rest of the elif or else blocks are skipped. If no conditions are True, the optional else block executes. This structure ensures only one block runs, even if multiple conditions are True.\n",
        "\n",
        "  13. What is the difference between for and while loops?\n",
        "   - While Loop: It repeats as long as a specified condition remains True. It's ideal for situations where the number of iterations isn't predetermined but depends on a dynamic condition.\n",
        "   - For Loop: It iterates over a sequence (like a list, range, or string) or any iterable object. It is used when the number of iterations is known or when looping through predefined elements.\n",
        "\n",
        "   14. Describe a scenario where a while loop is more suitable than a for loop.\n",
        "   - A while loop is better when you don’t know exactly how many times something will happen, but you have a condition that keeps checking while it's true.\n",
        "\n",
        "   - Imagine you want to let a user try logging in three times with a password. If they get it right, they should get access; if they don’t, they only get three tries.\n",
        " -   With a while loop, you can keep asking for the password until they either get it right or run out of attempts. You don’t know how many tries it will take, so a while loop is perfect here. A for loop wouldn’t work as well because it’s used for fixed numbers of repetitions."
      ],
      "metadata": {
        "id": "1a6v04PasKaV"
      }
    },
    {
      "cell_type": "markdown",
      "source": [
        "practical question answer:-"
      ],
      "metadata": {
        "id": "_ofEENuy7loI"
      }
    },
    {
      "cell_type": "code",
      "source": [
        "# 1. Write a Python program to print \"Hello, World!\"\n",
        "print(\"Hello, World!\")\n",
        "\n",
        "#2.  Write a Python program that displays your name and age.\n",
        "name = \"Prerit\"\n",
        "age = \"22\"\n",
        "print(\"My name is \" + name + \", and my age is \"  + age)\n",
        "\n",
        "#3 Write code to print all the pre-defined keywords in Python using the keyword library0\n",
        "help('keywords')\n",
        "\n",
        "#4 Write a program that checks if a given word is a Python keyword0\n",
        "keyword_input=input('enter a word to check keyword')\n",
        "keywords = [\"False\", \"None\", \"True\", \"and\", \"as\", \"assert\", \"async\", \"await\",\n",
        "              \"break\", \"class\", \"continue\", \"def\", \"del\", \"elif\", \"else\",\n",
        "              \"except\", \"finally\", \"for\", \"from\", \"global\", \"if\", \"import\", \"in\",\n",
        "              \"is\", \"lambda\", \"nonlocal\", \"not\", \"or\", \"pass\", \"raise\", \"return\",\n",
        "              \"try\", \"while\", \"with\", \"yield\"]\n",
        "\n",
        "if keyword_input in keywords:\n",
        "  print('yes, this is a keyword')\n",
        "else:\n",
        "  print ('no, it is not a keyword')\n",
        "\n"
      ],
      "metadata": {
        "colab": {
          "base_uri": "https://localhost:8080/"
        },
        "id": "LnYqXkzWahm7",
        "outputId": "7ef2db25-2efa-49ba-f059-a4339a499304"
      },
      "execution_count": 13,
      "outputs": [
        {
          "output_type": "stream",
          "name": "stdout",
          "text": [
            "Hello, World!\n",
            "My name is Prerit, and my age is 22\n",
            "\n",
            "Here is a list of the Python keywords.  Enter any keyword to get more help.\n",
            "\n",
            "False               class               from                or\n",
            "None                continue            global              pass\n",
            "True                def                 if                  raise\n",
            "and                 del                 import              return\n",
            "as                  elif                in                  try\n",
            "assert              else                is                  while\n",
            "async               except              lambda              with\n",
            "await               finally             nonlocal            yield\n",
            "break               for                 not                 \n",
            "\n",
            "enter a word to check keywordfor\n",
            "yes, this is a keyword\n",
            "[100, 2, 3, 4, 5, 6, 7]\n"
          ]
        }
      ]
    },
    {
      "cell_type": "code",
      "source": [
        "#5 Create a list and tuple in Python, and demonstrate how attempting to change an element works differently for each.\n",
        "sample_list=[1,2,3,4,5,6,7]\n",
        "sample_list[0]=100\n",
        "print(sample_list)\n",
        "#this is a list which is being changed. as we can see that the element has been changed from 1 to 100 in the list."
      ],
      "metadata": {
        "colab": {
          "base_uri": "https://localhost:8080/"
        },
        "id": "IBorAbSNDS2d",
        "outputId": "4177340c-2699-4e80-9051-6a36b2127b95"
      },
      "execution_count": 16,
      "outputs": [
        {
          "output_type": "stream",
          "name": "stdout",
          "text": [
            "[100, 2, 3, 4, 5, 6, 7]\n"
          ]
        }
      ]
    },
    {
      "cell_type": "code",
      "source": [
        "sample_tuple=(1,2,3,4,5,6,7)\n",
        "sample_tuple[0]=100\n",
        "print(sample_tuple)\n",
        "#whereas in case of tuple it gives an error because of immutability."
      ],
      "metadata": {
        "colab": {
          "base_uri": "https://localhost:8080/",
          "height": 193
        },
        "id": "hgrUcRL_DoM4",
        "outputId": "b275b99c-8105-4eb2-eab9-dc031b29f367"
      },
      "execution_count": 14,
      "outputs": [
        {
          "output_type": "error",
          "ename": "TypeError",
          "evalue": "'tuple' object does not support item assignment",
          "traceback": [
            "\u001b[0;31m---------------------------------------------------------------------------\u001b[0m",
            "\u001b[0;31mTypeError\u001b[0m                                 Traceback (most recent call last)",
            "\u001b[0;32m<ipython-input-14-1c0d482e4d49>\u001b[0m in \u001b[0;36m<cell line: 2>\u001b[0;34m()\u001b[0m\n\u001b[1;32m      1\u001b[0m \u001b[0msample_tuple\u001b[0m\u001b[0;34m=\u001b[0m\u001b[0;34m(\u001b[0m\u001b[0;36m1\u001b[0m\u001b[0;34m,\u001b[0m\u001b[0;36m2\u001b[0m\u001b[0;34m,\u001b[0m\u001b[0;36m3\u001b[0m\u001b[0;34m,\u001b[0m\u001b[0;36m4\u001b[0m\u001b[0;34m,\u001b[0m\u001b[0;36m5\u001b[0m\u001b[0;34m,\u001b[0m\u001b[0;36m6\u001b[0m\u001b[0;34m,\u001b[0m\u001b[0;36m7\u001b[0m\u001b[0;34m)\u001b[0m\u001b[0;34m\u001b[0m\u001b[0;34m\u001b[0m\u001b[0m\n\u001b[0;32m----> 2\u001b[0;31m \u001b[0msample_tuple\u001b[0m\u001b[0;34m[\u001b[0m\u001b[0;36m0\u001b[0m\u001b[0;34m]\u001b[0m\u001b[0;34m=\u001b[0m\u001b[0;36m100\u001b[0m\u001b[0;34m\u001b[0m\u001b[0;34m\u001b[0m\u001b[0m\n\u001b[0m\u001b[1;32m      3\u001b[0m \u001b[0mprint\u001b[0m\u001b[0;34m(\u001b[0m\u001b[0msample_tuple\u001b[0m\u001b[0;34m)\u001b[0m\u001b[0;34m\u001b[0m\u001b[0;34m\u001b[0m\u001b[0m\n\u001b[1;32m      4\u001b[0m \u001b[0;31m#whereas in case of tuple it gives an error because of immutability.\u001b[0m\u001b[0;34m\u001b[0m\u001b[0;34m\u001b[0m\u001b[0m\n",
            "\u001b[0;31mTypeError\u001b[0m: 'tuple' object does not support item assignment"
          ]
        }
      ]
    },
    {
      "cell_type": "code",
      "source": [
        "#6 Write a function to demonstrate the behavior of mutable and immutable arguments.\n",
        "\n",
        "W='prerit'\n",
        "a_2 = list(W)\n",
        "print(a_2)\n",
        "a_2[0]='A'\n",
        "print(a_2)\n",
        "#as we can see things like list is mutable\n",
        "w(0)='A'\n",
        "print(w)\n",
        "#but trying to change string like here in w is not possible"
      ],
      "metadata": {
        "colab": {
          "base_uri": "https://localhost:8080/",
          "height": 106
        },
        "id": "SNJw2UUlEP0C",
        "outputId": "ca814cf1-8c64-4ae0-fc99-11946b60a534"
      },
      "execution_count": 2,
      "outputs": [
        {
          "output_type": "error",
          "ename": "SyntaxError",
          "evalue": "cannot assign to function call here. Maybe you meant '==' instead of '='? (<ipython-input-2-9b3691b951b5>, line 7)",
          "traceback": [
            "\u001b[0;36m  File \u001b[0;32m\"<ipython-input-2-9b3691b951b5>\"\u001b[0;36m, line \u001b[0;32m7\u001b[0m\n\u001b[0;31m    w(0)='A'\u001b[0m\n\u001b[0m    ^\u001b[0m\n\u001b[0;31mSyntaxError\u001b[0m\u001b[0;31m:\u001b[0m cannot assign to function call here. Maybe you meant '==' instead of '='?\n"
          ]
        }
      ]
    },
    {
      "cell_type": "code",
      "source": [
        "#8 Write a program to demonstrate the use of logical operators.\n",
        "b_1=5\n",
        "b_2=9\n",
        "if b_1==b_2 and b_1<b_2:\n",
        "  print('if this block is printed then both are true')\n",
        "else:\n",
        "  print('if this block is printed then not both are not true')\n",
        "\n",
        "  if b_1==b_2 or b_1<b_2:\n",
        "    print('if this block is printed then either one is true')\n",
        "  else:\n",
        "    print('if this block is printed then both are false')"
      ],
      "metadata": {
        "colab": {
          "base_uri": "https://localhost:8080/"
        },
        "id": "SBuDIaRNL3Rj",
        "outputId": "8cec0e7e-f706-44ba-94ca-28740b9ad7b0"
      },
      "execution_count": 5,
      "outputs": [
        {
          "output_type": "stream",
          "name": "stdout",
          "text": [
            "if this block is printed then not both are not true\n",
            "if this block is printed then either one is true\n"
          ]
        }
      ]
    },
    {
      "cell_type": "code",
      "source": [
        "#9 Write a Python program to convert user input from string to integer, float, and boolean types.\n",
        "c_1=input('enter a number: ')\n",
        "print('this is the integer form', int(c_1))\n",
        "print('this is the float form', float(c_1))\n",
        "print('this is the boolean form', bool(int(c_1)))\n",
        "\n",
        "\n"
      ],
      "metadata": {
        "colab": {
          "base_uri": "https://localhost:8080/"
        },
        "id": "htO48OZnNjrM",
        "outputId": "ac444d53-6e93-45e9-85d0-14a51dbbdb67"
      },
      "execution_count": 27,
      "outputs": [
        {
          "output_type": "stream",
          "name": "stdout",
          "text": [
            "enter a number: 5\n",
            "this is the integer form 5\n",
            "this is the float form 5.0\n",
            "this is the boolean form True\n"
          ]
        }
      ]
    },
    {
      "cell_type": "code",
      "source": [
        "#10 Write code to demonstrate type casting with list elements\n",
        "emp_name= \"prerit\"\n",
        "emp_no=1\n",
        "emp_age=28.5\n",
        "emp_married=True\n",
        "emp_list=[emp_name,emp_no,emp_age,emp_married]\n",
        "print(emp_list)\n",
        "print(type(emp_list))\n",
        "print(type(emp_list[0]))\n",
        "print(type(emp_list[1]))\n",
        "print(type(emp_list[2]))\n",
        "print(type(emp_list[3]))\n"
      ],
      "metadata": {
        "colab": {
          "base_uri": "https://localhost:8080/"
        },
        "id": "-_u15f2TOxK-",
        "outputId": "8e2b7388-6ce5-4fb6-f5ba-77f7f340bc88"
      },
      "execution_count": 20,
      "outputs": [
        {
          "output_type": "stream",
          "name": "stdout",
          "text": [
            "['prerit', 1, 28.5, True]\n",
            "<class 'list'>\n",
            "<class 'str'>\n",
            "<class 'int'>\n",
            "<class 'float'>\n",
            "<class 'bool'>\n"
          ]
        }
      ]
    },
    {
      "cell_type": "code",
      "source": [
        "#11 Write a program that checks if a number is positive, negative, or zero0\n",
        "the_number=int(input('enter a number: '))\n",
        "if the_number == 0:\n",
        "  print('the number is zero')\n",
        "elif the_number > 0:\n",
        "  print('the number is positive')\n",
        "else:\n",
        "  print('the number is negative')"
      ],
      "metadata": {
        "colab": {
          "base_uri": "https://localhost:8080/"
        },
        "id": "7AFSgIahdx3d",
        "outputId": "84ae697c-d4f0-457b-c506-9e93f379a240"
      },
      "execution_count": 26,
      "outputs": [
        {
          "output_type": "stream",
          "name": "stdout",
          "text": [
            "enter a number2\n",
            "the number is positive\n"
          ]
        }
      ]
    },
    {
      "cell_type": "code",
      "source": [
        "#12 Write a for loop to print numbers from 1 to 10\n",
        "d_1=1\n",
        "while d_1<11:\n",
        "  print(d_1)\n",
        "  d_1=d_1+1"
      ],
      "metadata": {
        "colab": {
          "base_uri": "https://localhost:8080/"
        },
        "id": "x7Fw3bGxeqxu",
        "outputId": "f55fc1b3-1774-4770-d75c-fa864cffb164"
      },
      "execution_count": 28,
      "outputs": [
        {
          "output_type": "stream",
          "name": "stdout",
          "text": [
            "1\n",
            "2\n",
            "3\n",
            "4\n",
            "5\n",
            "6\n",
            "7\n",
            "8\n",
            "9\n",
            "10\n"
          ]
        }
      ]
    },
    {
      "cell_type": "code",
      "source": [
        "#13 Write a Python program to find the sum of all even numbers between 1 and 50\n",
        "e_2=0\n",
        "for e_1 in range(0,50,2):\n",
        "  e_2=e_2+e_1\n",
        "print(e_2)"
      ],
      "metadata": {
        "colab": {
          "base_uri": "https://localhost:8080/"
        },
        "id": "g87IWCVTfl-n",
        "outputId": "e89c8291-0848-43d9-8f17-7dec3412482a"
      },
      "execution_count": 2,
      "outputs": [
        {
          "output_type": "stream",
          "name": "stdout",
          "text": [
            "600\n"
          ]
        }
      ]
    },
    {
      "cell_type": "code",
      "source": [
        "#14 Write a program to reverse a string using a while loop\n",
        "f_1= input('enter string: ')\n",
        "f_2=int(len(f_1)+1)\n",
        "f_3=-1\n",
        "f_4=-f_3\n",
        "\n",
        "while f_4<f_2:\n",
        "  print(f_1[f_3])\n",
        "  f_3+=-1\n",
        "  f_4+=1\n",
        ""
      ],
      "metadata": {
        "colab": {
          "base_uri": "https://localhost:8080/"
        },
        "id": "RuFWBgS1o7-B",
        "outputId": "01f56876-eae0-4abd-a27e-0c61c4383593"
      },
      "execution_count": 26,
      "outputs": [
        {
          "output_type": "stream",
          "name": "stdout",
          "text": [
            "enter string: pwskills\n",
            "s\n",
            "l\n",
            "l\n",
            "i\n",
            "k\n",
            "s\n",
            "w\n",
            "p\n"
          ]
        }
      ]
    },
    {
      "cell_type": "code",
      "source": [
        "#15 Write a Python program to calculate the factorial of a number provided by the user using a while loop\n",
        "g_1= input('enter number whose factorial to find: ')\n",
        "g_2= int(g_1)\n",
        "g_4=g_2\n",
        "g_3=1\n",
        "while g_2>0:\n",
        "  g_3=g_3*g_2\n",
        "  g_2=g_2-1\n",
        "print(g_3)\n",
        "\n",
        "\n",
        "\n",
        "\n",
        "\n"
      ],
      "metadata": {
        "colab": {
          "base_uri": "https://localhost:8080/"
        },
        "id": "fTmyonPuwj5M",
        "outputId": "093a43b9-6026-4f3b-a9fd-7b1458176006"
      },
      "execution_count": 48,
      "outputs": [
        {
          "output_type": "stream",
          "name": "stdout",
          "text": [
            "enter number whose factorial to find: 6\n",
            "720\n"
          ]
        }
      ]
    }
  ]
}