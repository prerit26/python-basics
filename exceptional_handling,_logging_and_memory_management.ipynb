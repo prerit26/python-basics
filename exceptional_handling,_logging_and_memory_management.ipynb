{
  "nbformat": 4,
  "nbformat_minor": 0,
  "metadata": {
    "colab": {
      "provenance": []
    },
    "kernelspec": {
      "name": "python3",
      "display_name": "Python 3"
    },
    "language_info": {
      "name": "python"
    }
  },
  "cells": [
    {
      "cell_type": "markdown",
      "source": [
        "#Theory questions"
      ],
      "metadata": {
        "id": "bIc9YDPeIzKG"
      }
    },
    {
      "cell_type": "markdown",
      "source": [
        "#What is the difference between interpreted and compiled languages?\n",
        "- In case of compiled language, the whole code is first translated into machine language and then executed.\n",
        "- Whereas in case of interpreted language, the code is translated into machine language line by line the executed consecutively before picking up next line.\n",
        "\n",
        "#What is exception handling in Python?\n",
        "- Exception handing is used in python to avoid unexpected error warning that may arise which leads to stoping of code.\n",
        "- To settle that ambiguity we give option to python using exception handling methds that if a error occurs then to do run some other code.\n",
        "\n",
        "#What is the purpose of the finally block in exception handling?\n",
        "- Finally block is executed no matter if error occurs or not.\n",
        "- It is an optional feature while writing exceptional handling that we may use or not use.\n",
        "- It is executed at last.\n",
        "\n",
        "# What is logging in Python?\n",
        "- Logging is used to monitor how our code is running and helps debug it.\n",
        "- It helps by making a seperate that lists the activity of the code and how it is proceeding.\n",
        "- It is better using print statement after every code block to understand which code is being executed.\n",
        "\n",
        "#What is the significance of the __del__ method in Python?\n",
        "- It is a special class in python.\n",
        "- It is used to free up space by destroying any before used code when no longer needed.\n",
        "- We can also use this to display a message when it is destroyed.\n",
        "\n",
        "# What is the difference between import and from ... import in Python?\n",
        "- \"Import\" is used to bring a whole module to use in our code. Whereas if we want to use any specific part of the module not whole module then \"from ... import\" is used.\n",
        "- \"from ... import\" can help us type less while writing code as in the case of \"import\" we have to write the module name and then function name, for example math.sqrt.\n",
        "\n",
        "# How can you handle multiple exceptions in Python?\n",
        "- In the except block you can mention the name of the error and this will be executed if that specific execption type happens.\n",
        "- We can list multiple exception blocks for each kind of exceptions.\n",
        "- Or we can write a except block for generic exeception that will take care of all types of exception and under it we can indent a print statement to mention the name of the execption.\n",
        "\n",
        "# What is the purpose of the with statement when handling files in Python?\n",
        "- While reading, writing a txt or any any other type of file in python we have to use open and close command to interact with file.\n",
        "- With statement ensures that the file is automatically closed after it is opened when used with open command.\n",
        "\n",
        "# What is the difference between multithreading and multiprocessing?\n",
        "- Independence:\n",
        "Multiprocessing: In multiprocessing, each process runs independently with its own memory space. Processes\n",
        "do not share memory by default, and communication between them requires explicit mechanisms such as\n",
        "inter-process communication (IPC).\n",
        "Multithreading: In multithreading, multiple threads share the same memory space within a single process.\n",
        "Threads can communicate more directly by accessing shared data.\n",
        "- Communication:\n",
        "Multiprocessing: Communication between processes is typically achieved through IPC mechanisms like\n",
        "message passing, shared memory, or file-based communication.\n",
        "Multithreading: Threads can communicate more easily by sharing data directly, as they have access to the\n",
        "same memory spaceh\n",
        "- Fault Isolation:\n",
        "Multiprocessing: Processes are more isolated, providing better fault isolation. If one process crashes, it does not\n",
        "necessarily affect others.\n",
        "Multithreading: Threads within the same process share the same memory space, making them more\n",
        "susceptible to issues such as data corruption or unintended interactions.\n",
        "\n",
        "- Resource Utilization:\n",
        "Multiprocessing: Can take advantage of multiple CPU cores, as each process can run on a separate core.\n",
        "Suitable for CPU-bound tasks.\n",
        "Multithreading: Suitable for I/O-bound tasks or tasks where parallelism can be achieved within a single\n",
        "process\n",
        "\n",
        "- Concurrency:\n",
        "Multiprocessing: Involves concurrent execution of multiple processes, each with its own program counter and\n",
        "resources.\n",
        "Multithreading: Involves concurrent execution of multiple threads within the same process, sharing the same\n",
        "program counter.\n",
        "\n",
        "#  What are the advantages of using logging in a program?\n",
        "- Tracks what’s happening in your code while it runs.\n",
        "\n",
        "- Helps find bugs by recording errors and events.\n",
        "\n",
        "- Keeps a record of program activities over time.\n",
        "\n",
        "- Better than print() because you can set levels (info, warning, error, etc.).\n",
        "\n",
        "- Saves logs to files, so you can review problems later.\n",
        "\n",
        "- Customizable format — you can include timestamps, error types, etc.\n",
        "\n",
        "# What is memory management in Python?\n",
        "- In python, python does the memory management automatically most of the times.\n",
        "- It is when freeing up ram space is needed because information size being too large.\n",
        "\n",
        "# What are the basic steps involved in exception handling in Python?\n",
        "- Try Block\n",
        "\n",
        "Write the code that might cause an exception inside a try block.\n",
        "\n",
        "- Except Block\n",
        "\n",
        "Catch and handle the exception using an except block.\n",
        "\n",
        "- Else Block (Optional)\n",
        "\n",
        "Run code if no exception occurred (optional).\n",
        "\n",
        "- Finally Block (Optional)\n",
        "\n",
        "Run cleanup code, whether or not an exception occurred (optional).\n",
        "\n",
        "#Why is memory management important in Python0\n",
        "- Too much memory usage may slow dow down the program which means lagging and slow loading.\n",
        "- It can even cause crashes in the program.\n",
        "\n",
        "# What is the role of try and except in exception handling?\n",
        "- Use of these 2 blocks are used to handle exception.\n",
        "- We use try block to first input the code which we believe can throw error in some situation.\n",
        "- If no errors occur then python is directed towards else and fianlly block.\n",
        "- if exception occurs then Except block is executed and then finally.\n",
        "\n",
        "# How does Python's garbage collection system work?\n",
        "- Python's garbage collection system automatically manages memory by deleting unused objects.\n",
        "\n",
        "#What is the purpose of the else block in exception handling0\n",
        "- Else block is executed when there is no exception in the code.\n",
        "- It is useful when you want to run a code only and only when no exception is occured.\n",
        "\n",
        "# What are the common logging levels in Python?\n",
        "- DEBUG:\tDetailed information for debugging.\n",
        "- INFO:\tGeneral information about program status.\n",
        "- WARNING:\tSomething unexpected or potentially wrong.\n",
        "- ERROR:\tAn issue that prevents a task from completing.\n",
        "- CRITICAL:\tA serious problem that may stop the program.\n",
        "\n",
        "# What is the difference between os.fork() and multiprocessing in Python?\n",
        "- os.fork() is a low-level system call in Python that creates a child process by duplicating the parent process. It works only on Unix-based systems and requires manual handling of process synchronization and communication. multiprocessing, on the other hand, is a high-level module that abstracts process creation, making it easier to manage processes, especially with cross-platform support (works on both Unix and Windows).\n",
        "\n",
        "# What is the importance of closing a file in Python?\n",
        "- closing file means saving the file after changes, otherwise those changes will not be reflected until file is not closed.\n",
        "- in case of with command, with automatically closes the file.\n",
        "\n",
        "# What is the difference between file.read() and file.readline() in Python0\n",
        "- file.read() reads the entire file at once.\n",
        "- whereas file.readline() reads only one line at a time where the cursor is at(the line after the cursor).\n",
        "\n",
        "# What is the logging module in Python used for?\n",
        "- This module is needed to be first imported.\n",
        "- The logging module in Python is used to record messages that describe events happening during a program's execution.\n",
        "- These messages can be helpful for debugging, monitoring, and tracking errors without interrupting the flow of the program.\n",
        "\n",
        "# What is the os module in Python used for in file handling?\n",
        "- Stands for operating system.\n",
        "- Used for directory management and file handling.\n",
        "- Through this we can do operations using python that usually require doing it manually.\n",
        "- Things like mkrdir, listdir, rename, remove, getcwd after os. and suffix ().\n",
        "\n",
        "# What are the challenges associated with memory management in Python?\n",
        "-  1. Memory Leaks:\n",
        "Even though Python has garbage collection, memory leaks can happen if references to unused objects are not properly removed. For example, storing unnecessary data in global variables or large lists can prevent memory from being freed.\n",
        "\n",
        "- 2. Circular References:\n",
        "When two or more objects reference each other, even if they are not used elsewhere, Python’s simple reference counting can't clean them up automatically. The garbage collector handles it, but it’s still a tricky area.\n",
        "\n",
        "- 3. High Memory Usage:\n",
        "Python objects are generally heavier compared to languages like C because Python manages additional metadata. This can cause more memory usage, especially in data-heavy applications.\n",
        "\n",
        "- 4. Fragmentation:\n",
        "As objects are created and deleted, memory becomes fragmented. Although Python tries to manage small objects efficiently using the private memory manager (like pymalloc), fragmentation can still occur, slowing down performance.\n",
        "\n",
        "- 5. Manual Tuning Needed:\n",
        "Sometimes, developers need to manually optimize memory usage by using techniques like object pooling, limiting object creation, or using libraries like gc for better control, especially in performance-critical applications.\n",
        "\n",
        "# How do you raise an exception manually in Python?\n",
        "- Using raise statement.\n",
        "\n",
        "# Why is it important to use multithreading in certain applications?\n",
        "- It is important when we need to speed up the process which unncessarilly requring more time when system can do it in less time.\n",
        "\n",
        "\n"
      ],
      "metadata": {
        "id": "4oRwCl7wSQZ3"
      }
    },
    {
      "cell_type": "markdown",
      "source": [
        "#Practical questions"
      ],
      "metadata": {
        "id": "krBeu-6vI7jK"
      }
    },
    {
      "cell_type": "code",
      "source": [
        "# How can you open a file for writing in Python and write a string to it\n",
        "a1= open('samplefile.txt', 'w')\n",
        "a1.write(\"hello world\")\n",
        "a1.write(\"\\nhello world\")\n",
        "a1.close()\n"
      ],
      "metadata": {
        "id": "r93brO0KI_3M"
      },
      "execution_count": 2,
      "outputs": []
    },
    {
      "cell_type": "code",
      "source": [
        "# Write a Python program to read the contents of a file and print each line?\n",
        "a2= open('samplefile.txt', 'r')\n",
        "a21 = a2.readline()\n",
        "while a21:\n",
        "  print(a21)\n",
        "  a21 = a2.readline()\n",
        "a2.close"
      ],
      "metadata": {
        "colab": {
          "base_uri": "https://localhost:8080/"
        },
        "id": "JhLSU7yjLqH6",
        "outputId": "bd69b4fb-039e-4adf-b18d-5d442b703997"
      },
      "execution_count": 9,
      "outputs": [
        {
          "output_type": "stream",
          "name": "stdout",
          "text": [
            "hello world\n",
            "\n",
            "hello world\n"
          ]
        },
        {
          "output_type": "execute_result",
          "data": {
            "text/plain": [
              "<function TextIOWrapper.close()>"
            ]
          },
          "metadata": {},
          "execution_count": 9
        }
      ]
    },
    {
      "cell_type": "code",
      "source": [
        "#How would you handle a case where the file doesn't exist while trying to open it for reading?\n",
        "try:\n",
        "  with open(\"samplefile2.txt\", 'r') as a3:\n",
        "    print(a3.read())\n",
        "except:\n",
        "  print(\"file not found, check file name!\")"
      ],
      "metadata": {
        "colab": {
          "base_uri": "https://localhost:8080/"
        },
        "id": "4Z67eyzIObRq",
        "outputId": "2f8cd995-81b2-4b3f-ef60-49238becc917"
      },
      "execution_count": 8,
      "outputs": [
        {
          "output_type": "stream",
          "name": "stdout",
          "text": [
            "file not found, check file name!\n"
          ]
        }
      ]
    },
    {
      "cell_type": "code",
      "source": [
        "# Write a Python script that reads from one file and writes its content to another file.\n",
        "with open('samplefile.txt', 'r') as a4:\n",
        "  with open('samplefile3.txt', 'w') as a45:\n",
        "    a45.write(a4.read())\n"
      ],
      "metadata": {
        "id": "ZYn6S1BSP6yS"
      },
      "execution_count": 10,
      "outputs": []
    },
    {
      "cell_type": "code",
      "source": [
        " a5 = int(input(\"enter a number to be divided from 10 -->\"))\n",
        "try:\n",
        "  print(10/a5)\n",
        "\n",
        "except ZeroDivisionError:\n",
        "  print('zeros not allowed')\n"
      ],
      "metadata": {
        "colab": {
          "base_uri": "https://localhost:8080/"
        },
        "id": "cS1YsxvNQV-w",
        "outputId": "afe5df61-b122-4e04-fcce-537678ac942b"
      },
      "execution_count": null,
      "outputs": [
        {
          "output_type": "stream",
          "name": "stdout",
          "text": [
            "enter a number to be divided from 10 -->2\n",
            "5.0\n"
          ]
        }
      ]
    },
    {
      "cell_type": "code",
      "source": [
        "# Write a Python program that logs an error message to a log file when a division by zero exception occurs?\n",
        "import logging\n",
        "\n",
        "\n",
        "logging.basicConfig(\n",
        "    filename='error_log.txt', level=logging.ERROR,)\n",
        "\n",
        "try:\n",
        "\n",
        "    x = 10\n",
        "    y = 0\n",
        "    result = x / y\n",
        "except ZeroDivisionError as e:\n",
        "\n",
        "    logging.error(\"Division by zero error: %s\", e)\n",
        "\n",
        "\n"
      ],
      "metadata": {
        "colab": {
          "base_uri": "https://localhost:8080/"
        },
        "id": "BPzvmwPiSwNW",
        "outputId": "889beaf1-f0a3-469b-b9bf-6c147a91421b"
      },
      "execution_count": null,
      "outputs": [
        {
          "output_type": "stream",
          "name": "stderr",
          "text": [
            "ERROR:root:Division by zero error: division by zero\n"
          ]
        }
      ]
    },
    {
      "cell_type": "code",
      "source": [
        "# How do you log information at different levels (INFO, ERROR, WARNING) in Python using the logging module\n",
        "logging.basicConfig(filename='app_log.txt', level=logging.INFO)\n",
        "logging.basicConfig(filename='app_log.txt', level=logging.ERROR)\n",
        "logging.basicConfig(filename='app_log.txt', level=logging.WARNING)"
      ],
      "metadata": {
        "id": "GzUWJ4IDWzuj"
      },
      "execution_count": null,
      "outputs": []
    },
    {
      "cell_type": "code",
      "source": [
        "#Write a program to handle a file opening error using exception handlingF\n",
        "\n",
        "try:\n",
        "  with open('1234.txt','r') as b1:\n",
        "   b1.read()\n",
        "except FileNotFoundError as e:\n",
        "  print('problem of', e )"
      ],
      "metadata": {
        "colab": {
          "base_uri": "https://localhost:8080/"
        },
        "id": "I4ABGv9caKvE",
        "outputId": "578d8047-c23d-42b3-b391-8f37a3f348d8"
      },
      "execution_count": null,
      "outputs": [
        {
          "output_type": "stream",
          "name": "stdout",
          "text": [
            "problem of [Errno 2] No such file or directory: '1234.txt'\n"
          ]
        }
      ]
    },
    {
      "cell_type": "code",
      "source": [
        "# How can you read a file line by line and store its content in a list in Python\n",
        "b3=[]\n",
        "with open('samplefile.txt', 'r') as b2:\n",
        "  b21= b2.readline()\n",
        "  while b21:\n",
        "    b3.append(b21)\n",
        "    b21 = b2.readline()\n",
        "print(b3)\n",
        ""
      ],
      "metadata": {
        "id": "L5wB8P9Ab3sd",
        "colab": {
          "base_uri": "https://localhost:8080/"
        },
        "outputId": "eec9731d-ce65-4bf9-9fbf-bc1ef59f2776"
      },
      "execution_count": 7,
      "outputs": [
        {
          "output_type": "stream",
          "name": "stdout",
          "text": [
            "['hello world\\n', 'hello world']\n"
          ]
        }
      ]
    },
    {
      "cell_type": "code",
      "source": [
        "# How can you append data to an existing file in Python?\n",
        "with open('samplefile3.txt','a') as c1:\n",
        "  c1.write('\\n hello mars and sun')"
      ],
      "metadata": {
        "id": "VgzlBB_nOId3"
      },
      "execution_count": 14,
      "outputs": []
    },
    {
      "cell_type": "code",
      "source": [
        "# Write a Python program that uses a try-except block to handle an error when attempting to access a dictionary key that doesn't exist.\n",
        "d={'apple': 'fruit', 'cow':'animal', 'carrot':'vegetable', 'butterfly':'insect', 'mushroom':'fungui'}\n",
        "try:\n",
        "  d1=input('give key')\n",
        "  print(d[d1])\n",
        "except KeyError:\n",
        "  print('key not found')\n"
      ],
      "metadata": {
        "colab": {
          "base_uri": "https://localhost:8080/"
        },
        "id": "7AicF0XdPTZs",
        "outputId": "28872e23-c273-4925-e12e-e4311057ab25"
      },
      "execution_count": 23,
      "outputs": [
        {
          "output_type": "stream",
          "name": "stdout",
          "text": [
            "give keycarrot\n",
            "vegetable\n"
          ]
        }
      ]
    },
    {
      "cell_type": "code",
      "source": [
        "# Write a program that demonstrates using multiple except blocks to handle different types of exceptions\n",
        "\n",
        "\n",
        "try:\n",
        "  d3=int(input('enter a number'))\n",
        "  d2 = 100/d3\n",
        "except ZeroDivisionError:\n",
        "  print('dont put zero here')\n",
        "except ValueError:\n",
        "  print('the code hates str')\n",
        "finally:\n",
        "  print(d2)"
      ],
      "metadata": {
        "colab": {
          "base_uri": "https://localhost:8080/"
        },
        "id": "Z7t2ZWKYPZMH",
        "outputId": "569743ee-8ba5-4eb6-fbf3-c14455cb962f"
      },
      "execution_count": 43,
      "outputs": [
        {
          "output_type": "stream",
          "name": "stdout",
          "text": [
            "enter a number50\n",
            "2.0\n"
          ]
        }
      ]
    },
    {
      "cell_type": "code",
      "source": [
        "#How would you check if a file exists before attempting to read it in Python\n",
        "import os\n",
        "\n",
        "if os.path.exists('samplefile3.txt'):\n",
        "    with open('samplefile3.txt', 'r') as file:\n",
        "        data = file.read()\n",
        "        print(data)\n",
        "else:\n",
        "    print('File does not exist!')\n"
      ],
      "metadata": {
        "colab": {
          "base_uri": "https://localhost:8080/"
        },
        "id": "xq8HIBqiWHz_",
        "outputId": "2d96462e-3b91-4c84-ca59-9ca15084b91d"
      },
      "execution_count": 48,
      "outputs": [
        {
          "output_type": "stream",
          "name": "stdout",
          "text": [
            "hello world\n",
            "hello world\n",
            "hello mars and sun\n"
          ]
        }
      ]
    },
    {
      "cell_type": "code",
      "source": [
        "# Write a program that uses the logging module to log both informational and error messages\n",
        "import logging\n",
        "\n",
        "logging.basicConfig(level=logging.INFO, filename='app.log', filemode='w', format='%(asctime)s - %(levelname)s - %(message)s')\n",
        "\n",
        "# Example logs\n",
        "logging.info('This is an informational message.')\n",
        "logging.error('This is an error message.')\n",
        "\n"
      ],
      "metadata": {
        "colab": {
          "base_uri": "https://localhost:8080/"
        },
        "id": "ymElHTshWdKi",
        "outputId": "1537fe0c-98a8-4972-faad-7226db65e902"
      },
      "execution_count": 63,
      "outputs": [
        {
          "output_type": "stream",
          "name": "stderr",
          "text": [
            "ERROR:root:This is an error message.\n"
          ]
        }
      ]
    },
    {
      "cell_type": "code",
      "source": [
        "#  Write a Python program that prints the content of a file and handles the case when the file is empty\n",
        "e1 = input('enter file name')\n",
        "with open(e1, 'r') as e2:\n",
        "  e21= e2.read()\n",
        "if e21=='':\n",
        "  print('file is empty')\n",
        "else:\n",
        "  print(e21)"
      ],
      "metadata": {
        "colab": {
          "base_uri": "https://localhost:8080/"
        },
        "id": "yCJL9zBL0Osk",
        "outputId": "7adbd43e-9f2b-43ab-b1b0-ea2398ceb44a"
      },
      "execution_count": 7,
      "outputs": [
        {
          "output_type": "stream",
          "name": "stdout",
          "text": [
            "enter file namesamplefile.txt\n",
            "hello world\n",
            "hello world\n"
          ]
        }
      ]
    },
    {
      "cell_type": "code",
      "source": [],
      "metadata": {
        "id": "6cksbZ1C3jr2"
      },
      "execution_count": null,
      "outputs": []
    },
    {
      "cell_type": "code",
      "source": [
        "#Write a Python program to create and write a list of numbers to a file, one number per line\n",
        "\n",
        "f1=int(input('give range'))\n",
        "f4=1\n",
        "with open('number list','w') as f2:\n",
        "  for i in range(1,f1+1):\n",
        "    f2.write(str(f4)+'\\n')\n",
        "    f4+=1\n",
        "\n",
        ""
      ],
      "metadata": {
        "colab": {
          "base_uri": "https://localhost:8080/"
        },
        "id": "jcmcdWGd4En2",
        "outputId": "bdfa66fd-d464-484d-e636-dcbefab71b70"
      },
      "execution_count": 14,
      "outputs": [
        {
          "name": "stdout",
          "output_type": "stream",
          "text": [
            "give range10\n"
          ]
        }
      ]
    },
    {
      "cell_type": "code",
      "source": [
        "# How would you implement a basic logging setup that logs to a file with rotation after 1MB"
      ],
      "metadata": {
        "id": "8PCeo_9x6-6b"
      },
      "execution_count": null,
      "outputs": []
    },
    {
      "cell_type": "code",
      "source": [
        "# Write a program that handles both IndexError and KeyError using a try-except block\n",
        "g1 = int(input('Give a key/index: '))\n",
        "\n",
        "my_list = [1, 2, 3, 4, 5, 6, 7, 8]\n",
        "my_dict = {0: 'apple', 1: 'orange', 2: 'banana', 3: 'kiwi'}\n",
        "\n",
        "try:\n",
        "    print('From list:', my_list[g1])\n",
        "except IndexError:\n",
        "    print('IndexError: Invalid index for list!')\n",
        "\n",
        "try:\n",
        "    print('From dictionary:', my_dict[g1])\n",
        "except KeyError:\n",
        "    print('KeyError: Invalid key for dictionary!')\n",
        "\n"
      ],
      "metadata": {
        "colab": {
          "base_uri": "https://localhost:8080/"
        },
        "id": "Ui9om1H2_E9W",
        "outputId": "fb858f15-7f60-4feb-834f-ca1aba449447"
      },
      "execution_count": 24,
      "outputs": [
        {
          "output_type": "stream",
          "name": "stdout",
          "text": [
            "Give a key/index: 11\n",
            "IndexError: Invalid index for list!\n",
            "KeyError: Invalid key for dictionary!\n"
          ]
        }
      ]
    },
    {
      "cell_type": "code",
      "source": [
        "# How would you open a file and read its contents using a context manager in Python\n",
        "with open('samplefile.txt', 'r') as h1:\n",
        "  h2= h1.read()\n",
        "  print(h2)\n",
        ""
      ],
      "metadata": {
        "id": "i2vnEzgPBht8"
      },
      "execution_count": null,
      "outputs": []
    },
    {
      "cell_type": "code",
      "source": [
        "# Write a Python program that reads a file and prints the number of occurrences of a specific word\n",
        "word_to_count = input('enter the word :')\n",
        "word_to_count = word_to_count.lower()\n",
        "enter_name_of_file = input('enter file name :')\n",
        "with open(enter_name_of_file, 'r') as i1:\n",
        "  i2= i1.read()\n",
        "  i2=i2.lower()\n",
        "  i3= i2.split().count(word_to_count)\n",
        "  print(i3)"
      ],
      "metadata": {
        "colab": {
          "base_uri": "https://localhost:8080/"
        },
        "id": "SfDH-rFqBwRf",
        "outputId": "ca2c4f57-67df-445e-db50-da14eaa2effb"
      },
      "execution_count": 26,
      "outputs": [
        {
          "output_type": "stream",
          "name": "stdout",
          "text": [
            "enter the word :heLlo\n",
            "enter file name :samplefile.txt\n",
            "2\n"
          ]
        }
      ]
    },
    {
      "cell_type": "code",
      "source": [
        "# How can you check if a file is empty before attempting to read its contents\n",
        "j1= \"samplefile.txt\"\n",
        "import os\n",
        "if os.path.getsize(j1)== 0:\n",
        "  print('file is empty')\n",
        "else:\n",
        "  print('file is not empty')"
      ],
      "metadata": {
        "colab": {
          "base_uri": "https://localhost:8080/"
        },
        "id": "ztMRaLiPG5sy",
        "outputId": "6a43edd8-3134-4e7b-b471-7e5192bb19cd"
      },
      "execution_count": 32,
      "outputs": [
        {
          "output_type": "stream",
          "name": "stdout",
          "text": [
            "file is not empty\n"
          ]
        }
      ]
    },
    {
      "cell_type": "code",
      "source": [
        "#Write a Python program that writes to a log file when an error occurs during file handling.\n",
        "import logging\n",
        "\n",
        "logging.basicConfig(filename='file_error_log.log', level=logging.ERROR, format='%(asctime)s - %(levelname)s - %(message)s')\n",
        "\n",
        "def read_file(filename):\n",
        "    try:\n",
        "        with open(filename, 'r') as file:\n",
        "            print(file.read())\n",
        "    except Exception as e:\n",
        "        logging.error(f\"Error reading file '{filename}': {e}\")\n",
        "\n",
        "read_file('non_existing_file.txt')"
      ],
      "metadata": {
        "colab": {
          "base_uri": "https://localhost:8080/"
        },
        "id": "vASx8J1nIH_3",
        "outputId": "4255ca40-03e3-40e2-acfc-87039dfd8450"
      },
      "execution_count": 33,
      "outputs": [
        {
          "output_type": "stream",
          "name": "stderr",
          "text": [
            "ERROR:root:Error reading file 'non_existing_file.txt': [Errno 2] No such file or directory: 'non_existing_file.txt'\n"
          ]
        }
      ]
    }
  ]
}