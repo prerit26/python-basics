{
  "nbformat": 4,
  "nbformat_minor": 0,
  "metadata": {
    "colab": {
      "provenance": []
    },
    "kernelspec": {
      "name": "python3",
      "display_name": "Python 3"
    },
    "language_info": {
      "name": "python"
    }
  },
  "cells": [
    {
      "cell_type": "markdown",
      "source": [
        "#Functions python assignment"
      ],
      "metadata": {
        "id": "uLlY1DAfxBEU"
      }
    },
    {
      "cell_type": "markdown",
      "source": [
        "# Practical question answers:-"
      ],
      "metadata": {
        "id": "cAt2vQuyxHRM"
      }
    },
    {
      "cell_type": "code",
      "execution_count": null,
      "metadata": {
        "id": "GBTMpYmgvgYG",
        "colab": {
          "base_uri": "https://localhost:8080/"
        },
        "outputId": "8c1fd959-5a2a-4049-d256-1dc961743cf7"
      },
      "outputs": [
        {
          "output_type": "stream",
          "name": "stdout",
          "text": [
            "20\n",
            "dlrowolleh\n",
            "[1, 4, 9, 16, 25, 36, 49, 64, 81, 0]\n"
          ]
        }
      ],
      "source": [
        "#1  Write a Python function that takes a list of numbers as input and returns the sum of all even numbers in the list.\n",
        "list1= [1,2,3,4,5,6,7,8,9,0]\n",
        "def sum_even(i):\n",
        "  sum=0\n",
        "  for j in i:\n",
        "    if j%2==0:\n",
        "      sum=sum+j\n",
        "  print(sum)\n",
        "\n",
        "sum_even(list1)\n",
        "\n",
        "#2 Create a Python function that accepts a string and returns the reverse of that string\n",
        "\n",
        "str2= \"helloworld\"\n",
        "def rev_str(i2):\n",
        "  return i2[::-1]\n",
        "\n",
        "print(rev_str(str2))\n",
        "\n",
        "#3  Implement a Python function that takes a list of integers and returns a new list containing the squares of each number.\n",
        "def squ_int(i3):\n",
        "  return [j3**2 for j3 in i3]\n",
        "print(squ_int(list1))\n",
        "\n"
      ]
    },
    {
      "cell_type": "code",
      "source": [
        "#4 Write a Python function that checks if a given number is prime or not from 1 to 200.\n",
        "\n",
        "def check_prime(i4):\n",
        "  if i4==1:\n",
        "    return \"1 cannot be prime\"\n",
        "  for j4 in range(2,i4):\n",
        "    if i4%j4==0:\n",
        "      return \"not prime\"\n",
        "  return \"prime\"\n",
        "\n",
        "for ii4 in range(1, 201):\n",
        "  print([ f\"{ii4} --> {check_prime(ii4)}\"])"
      ],
      "metadata": {
        "colab": {
          "base_uri": "https://localhost:8080/"
        },
        "id": "QGvg9CD_dt2A",
        "outputId": "5211e910-d675-4c02-9e90-1945832a9ae7"
      },
      "execution_count": null,
      "outputs": [
        {
          "output_type": "stream",
          "name": "stdout",
          "text": [
            "['1 --> 1 cannot be prime']\n",
            "['2 --> prime']\n",
            "['3 --> prime']\n",
            "['4 --> not prime']\n",
            "['5 --> prime']\n",
            "['6 --> not prime']\n",
            "['7 --> prime']\n",
            "['8 --> not prime']\n",
            "['9 --> not prime']\n",
            "['10 --> not prime']\n",
            "['11 --> prime']\n",
            "['12 --> not prime']\n",
            "['13 --> prime']\n",
            "['14 --> not prime']\n",
            "['15 --> not prime']\n",
            "['16 --> not prime']\n",
            "['17 --> prime']\n",
            "['18 --> not prime']\n",
            "['19 --> prime']\n",
            "['20 --> not prime']\n",
            "['21 --> not prime']\n",
            "['22 --> not prime']\n",
            "['23 --> prime']\n",
            "['24 --> not prime']\n",
            "['25 --> not prime']\n",
            "['26 --> not prime']\n",
            "['27 --> not prime']\n",
            "['28 --> not prime']\n",
            "['29 --> prime']\n",
            "['30 --> not prime']\n",
            "['31 --> prime']\n",
            "['32 --> not prime']\n",
            "['33 --> not prime']\n",
            "['34 --> not prime']\n",
            "['35 --> not prime']\n",
            "['36 --> not prime']\n",
            "['37 --> prime']\n",
            "['38 --> not prime']\n",
            "['39 --> not prime']\n",
            "['40 --> not prime']\n",
            "['41 --> prime']\n",
            "['42 --> not prime']\n",
            "['43 --> prime']\n",
            "['44 --> not prime']\n",
            "['45 --> not prime']\n",
            "['46 --> not prime']\n",
            "['47 --> prime']\n",
            "['48 --> not prime']\n",
            "['49 --> not prime']\n",
            "['50 --> not prime']\n",
            "['51 --> not prime']\n",
            "['52 --> not prime']\n",
            "['53 --> prime']\n",
            "['54 --> not prime']\n",
            "['55 --> not prime']\n",
            "['56 --> not prime']\n",
            "['57 --> not prime']\n",
            "['58 --> not prime']\n",
            "['59 --> prime']\n",
            "['60 --> not prime']\n",
            "['61 --> prime']\n",
            "['62 --> not prime']\n",
            "['63 --> not prime']\n",
            "['64 --> not prime']\n",
            "['65 --> not prime']\n",
            "['66 --> not prime']\n",
            "['67 --> prime']\n",
            "['68 --> not prime']\n",
            "['69 --> not prime']\n",
            "['70 --> not prime']\n",
            "['71 --> prime']\n",
            "['72 --> not prime']\n",
            "['73 --> prime']\n",
            "['74 --> not prime']\n",
            "['75 --> not prime']\n",
            "['76 --> not prime']\n",
            "['77 --> not prime']\n",
            "['78 --> not prime']\n",
            "['79 --> prime']\n",
            "['80 --> not prime']\n",
            "['81 --> not prime']\n",
            "['82 --> not prime']\n",
            "['83 --> prime']\n",
            "['84 --> not prime']\n",
            "['85 --> not prime']\n",
            "['86 --> not prime']\n",
            "['87 --> not prime']\n",
            "['88 --> not prime']\n",
            "['89 --> prime']\n",
            "['90 --> not prime']\n",
            "['91 --> not prime']\n",
            "['92 --> not prime']\n",
            "['93 --> not prime']\n",
            "['94 --> not prime']\n",
            "['95 --> not prime']\n",
            "['96 --> not prime']\n",
            "['97 --> prime']\n",
            "['98 --> not prime']\n",
            "['99 --> not prime']\n",
            "['100 --> not prime']\n",
            "['101 --> prime']\n",
            "['102 --> not prime']\n",
            "['103 --> prime']\n",
            "['104 --> not prime']\n",
            "['105 --> not prime']\n",
            "['106 --> not prime']\n",
            "['107 --> prime']\n",
            "['108 --> not prime']\n",
            "['109 --> prime']\n",
            "['110 --> not prime']\n",
            "['111 --> not prime']\n",
            "['112 --> not prime']\n",
            "['113 --> prime']\n",
            "['114 --> not prime']\n",
            "['115 --> not prime']\n",
            "['116 --> not prime']\n",
            "['117 --> not prime']\n",
            "['118 --> not prime']\n",
            "['119 --> not prime']\n",
            "['120 --> not prime']\n",
            "['121 --> not prime']\n",
            "['122 --> not prime']\n",
            "['123 --> not prime']\n",
            "['124 --> not prime']\n",
            "['125 --> not prime']\n",
            "['126 --> not prime']\n",
            "['127 --> prime']\n",
            "['128 --> not prime']\n",
            "['129 --> not prime']\n",
            "['130 --> not prime']\n",
            "['131 --> prime']\n",
            "['132 --> not prime']\n",
            "['133 --> not prime']\n",
            "['134 --> not prime']\n",
            "['135 --> not prime']\n",
            "['136 --> not prime']\n",
            "['137 --> prime']\n",
            "['138 --> not prime']\n",
            "['139 --> prime']\n",
            "['140 --> not prime']\n",
            "['141 --> not prime']\n",
            "['142 --> not prime']\n",
            "['143 --> not prime']\n",
            "['144 --> not prime']\n",
            "['145 --> not prime']\n",
            "['146 --> not prime']\n",
            "['147 --> not prime']\n",
            "['148 --> not prime']\n",
            "['149 --> prime']\n",
            "['150 --> not prime']\n",
            "['151 --> prime']\n",
            "['152 --> not prime']\n",
            "['153 --> not prime']\n",
            "['154 --> not prime']\n",
            "['155 --> not prime']\n",
            "['156 --> not prime']\n",
            "['157 --> prime']\n",
            "['158 --> not prime']\n",
            "['159 --> not prime']\n",
            "['160 --> not prime']\n",
            "['161 --> not prime']\n",
            "['162 --> not prime']\n",
            "['163 --> prime']\n",
            "['164 --> not prime']\n",
            "['165 --> not prime']\n",
            "['166 --> not prime']\n",
            "['167 --> prime']\n",
            "['168 --> not prime']\n",
            "['169 --> not prime']\n",
            "['170 --> not prime']\n",
            "['171 --> not prime']\n",
            "['172 --> not prime']\n",
            "['173 --> prime']\n",
            "['174 --> not prime']\n",
            "['175 --> not prime']\n",
            "['176 --> not prime']\n",
            "['177 --> not prime']\n",
            "['178 --> not prime']\n",
            "['179 --> prime']\n",
            "['180 --> not prime']\n",
            "['181 --> prime']\n",
            "['182 --> not prime']\n",
            "['183 --> not prime']\n",
            "['184 --> not prime']\n",
            "['185 --> not prime']\n",
            "['186 --> not prime']\n",
            "['187 --> not prime']\n",
            "['188 --> not prime']\n",
            "['189 --> not prime']\n",
            "['190 --> not prime']\n",
            "['191 --> prime']\n",
            "['192 --> not prime']\n",
            "['193 --> prime']\n",
            "['194 --> not prime']\n",
            "['195 --> not prime']\n",
            "['196 --> not prime']\n",
            "['197 --> prime']\n",
            "['198 --> not prime']\n",
            "['199 --> prime']\n",
            "['200 --> not prime']\n"
          ]
        }
      ]
    },
    {
      "cell_type": "code",
      "source": [
        "#5  Create an iterator class in Python that generates the Fibonacci sequence up to a specified number of terms.\n",
        "\n",
        "def i5(n):\n",
        "    if n == 0:\n",
        "        return 0\n",
        "    elif n == 1:\n",
        "        return 1\n",
        "    else:\n",
        "        return i5(n - 1) + i5(n - 2)\n",
        "\n",
        "def give_fibb(j5):\n",
        "    for ii5 in range(j5):\n",
        "        yield i5(ii5)\n",
        "j5=10\n",
        "a=(give_fibb(j5))\n",
        "print(next(a))\n",
        "print(next(a))\n",
        "print(next(a))\n",
        "print(next(a))\n",
        "print(next(a))\n",
        "print(next(a))\n",
        "print(next(a))\n",
        "print(next(a))\n",
        "print(next(a))\n",
        "print(next(a))"
      ],
      "metadata": {
        "colab": {
          "base_uri": "https://localhost:8080/"
        },
        "id": "Q9slTXp4YrTY",
        "outputId": "e7738d41-f5f0-4f7e-93e6-cde8aabfc8a5"
      },
      "execution_count": null,
      "outputs": [
        {
          "output_type": "stream",
          "name": "stdout",
          "text": [
            "0\n",
            "1\n",
            "1\n",
            "2\n",
            "3\n",
            "5\n",
            "8\n",
            "13\n",
            "21\n",
            "34\n"
          ]
        }
      ]
    },
    {
      "cell_type": "code",
      "source": [
        "#6  Write a generator function in Python that yields the powers of 2 up to a given exponent.\n",
        "def give2pow(i6):\n",
        "  for ii6 in range(i6):\n",
        "    yield 2**ii6\n",
        "\n",
        "given_exponential= 10\n",
        "a6= give2pow(given_exponential)\n",
        "print(next(a6))\n",
        "print(next(a6))\n",
        "print(next(a6))\n",
        "print(next(a6))\n",
        "print(next(a6))\n",
        "print(next(a6))\n",
        "print(next(a6))\n",
        "print(next(a6))\n",
        "print(next(a6))\n",
        "print(next(a6))"
      ],
      "metadata": {
        "colab": {
          "base_uri": "https://localhost:8080/"
        },
        "id": "3Ysi1OdottwI",
        "outputId": "6ae0a5e1-6e5a-4876-d2fa-b14f2f2ed2ba"
      },
      "execution_count": null,
      "outputs": [
        {
          "output_type": "stream",
          "name": "stdout",
          "text": [
            "1\n",
            "2\n",
            "4\n",
            "8\n",
            "16\n",
            "32\n",
            "64\n",
            "128\n",
            "256\n",
            "512\n"
          ]
        }
      ]
    },
    {
      "cell_type": "code",
      "source": [
        "#7 Implement a generator function that reads a file line by line and yields each line as a string.\n",
        "file=\"Hello my name is prerit bhageria,\\n I am a student of pw data analytics course. \\n I love that way course structure is designed, \\n it is very effective in giving the knowledge to students in the way\\n which enhance their understanding of the concepts.\"\n",
        "\n",
        "a7=file.split(\"\\n\")\n",
        "\n",
        "def read_line(i7):\n",
        "  for j7 in i7:\n",
        "    yield j7\n",
        "ii7=read_line(a7)\n",
        "print(next(ii7))\n",
        "print(next(ii7))\n",
        "print(next(ii7))\n",
        "print(next(ii7))\n",
        "print(next(ii7))\n",
        "#File is assumed to be a string, as in the recorded lectures taking input of a .txt file is not discussed."
      ],
      "metadata": {
        "colab": {
          "base_uri": "https://localhost:8080/"
        },
        "id": "ecmyqNu_vDnh",
        "outputId": "75d7765f-0e53-41b9-f83e-06394373b9d4"
      },
      "execution_count": null,
      "outputs": [
        {
          "output_type": "stream",
          "name": "stdout",
          "text": [
            "Hello my name is prerit bhageria,\n",
            " I am a student of pw data analytics course. \n",
            " I love that way course structure is designed, \n",
            " it is very effective in giving the knowledge to students in the way\n",
            " which enhance their understanding of the concepts.\n"
          ]
        }
      ]
    },
    {
      "cell_type": "code",
      "source": [
        "#8 Use a lambda function in Python to sort a list of tuples based on the second element of each tuple.\n",
        "listoftuples=[(1,12,3),(4,15,6),(7,18,9),(10,11,12)]\n",
        "newlist8=sorted(listoftuples, key=lambda x: x[1])\n",
        "print(newlist8)\n",
        "\n",
        "#9 Write a Python program that uses `map()` to convert a list of temperatures from Celsius to Fahrenheit.\n",
        "celsiuslist= [10, 20, 30, 40, -40, -20]\n",
        "farhenheitlist= list(map(lambda x: (9/5*x) +32, celsiuslist))\n",
        "print(farhenheitlist)\n",
        "\n"
      ],
      "metadata": {
        "colab": {
          "base_uri": "https://localhost:8080/"
        },
        "id": "x-nrgheoCsiq",
        "outputId": "c22fc8b7-a1ce-444c-ce90-375bd34859a4"
      },
      "execution_count": 4,
      "outputs": [
        {
          "output_type": "stream",
          "name": "stdout",
          "text": [
            "[(10, 11, 12), (1, 12, 3), (4, 15, 6), (7, 18, 9)]\n",
            "[50.0, 68.0, 86.0, 104.0, -40.0, -4.0]\n"
          ]
        }
      ]
    },
    {
      "cell_type": "code",
      "source": [
        "#10  Create a Python program that uses `filter()` to remove all the vowels from a given string\n",
        "from functools import reduce\n",
        "str8= \"hello everybody. This is a nice day.\"\n",
        "def isconsonant(x):\n",
        "  if x in ['a', 'e', 'i', 'o', 'u']:\n",
        "    return False\n",
        "  else:\n",
        "    return True\n",
        "\n",
        "newstr = ''.join(filter(isconsonant, str8))\n",
        "print(newstr)"
      ],
      "metadata": {
        "colab": {
          "base_uri": "https://localhost:8080/"
        },
        "id": "d3Wqf0YAF7pb",
        "outputId": "8af12c8d-239b-425b-a3fd-76949783ca1b"
      },
      "execution_count": 21,
      "outputs": [
        {
          "output_type": "stream",
          "name": "stdout",
          "text": [
            "hll vrybdy. Ths s  nc dy.\n"
          ]
        }
      ]
    },
    {
      "cell_type": "code",
      "source": [
        "#11\n",
        "list11= [[34587, \"learning python, mark lutz\", 4, 40.95], [98762, \"programming python, mark lutz\", 5, 56.80], [77226, \"head first python, paul berry\",3, 32.95], [88112, \"einfuhrung in python3, bernd klein\", 3, 24.99 ]]\n",
        "newlist11= list(map(lambda x: (x[0], x[2]*x[3] + (10 if x[2]*x[3]<100 else 0)), list11))\n",
        "print(newlist11)"
      ],
      "metadata": {
        "colab": {
          "base_uri": "https://localhost:8080/"
        },
        "id": "TdGuWIZ0MhZb",
        "outputId": "b9922a2b-9b97-4f8a-b30f-a57fe030c86f"
      },
      "execution_count": 31,
      "outputs": [
        {
          "output_type": "stream",
          "name": "stdout",
          "text": [
            "[(34587, 163.8), (98762, 284.0), (77226, 108.85000000000001), (88112, 84.97)]\n"
          ]
        }
      ]
    },
    {
      "cell_type": "markdown",
      "source": [
        "#Theory questions:-"
      ],
      "metadata": {
        "id": "YSNJ2XCd7jzp"
      }
    },
    {
      "cell_type": "markdown",
      "source": [
        "#1 What is the difference between a function and a method in Python?\n",
        "- In Python, a function is a piece of code that performs a task and can be used anywhere in the program. You define a function with the def keyword and call it directly. For example, add(3, 5) can call a function that adds two numbers.\n",
        "\n",
        "- A method, on the other hand, is a function that is inside a class and is used with objects of that class. You call a method on an object, like object.method(). Methods usually take self as the first argument, referring to the object itself. So, methods are functions tied to objects.\n",
        "\n",
        "#2 Explain the concept of function arguments and parameters in Python\n",
        "- An argument is a value that goes inside a function for it to be executed. For example - while making a print statement, it goes like this --> Print(\"Hello world\"). Here \"Hello world\" is the argument value.\n",
        "- A parameter is a pronoun that takes place of a argument in a function by assigning the value to a variable. For example - a= hello world print(a).\n",
        "Here a is the parameter.\n",
        "\n",
        "#3 What are the different ways to define and call a function in Python?\n",
        "- In Python, functions can be defined and called in two main ways: using the def keyword and the lambda keyword.\n",
        "\n",
        "- Using def: The def keyword is used to define a named function that can have multiple parameters and a body with several statements. This is the standard way to create a function, offering more flexibility. Functions defined with def can have a name, multiple statements, and a return value, making them suitable for complex tasks.\n",
        "\n",
        "- Using lambda: A lambda function is an anonymous, one-line function defined using the lambda keyword. It takes parameters and returns a value in a single expression. Unlike functions defined with def, lambda functions are typically used for simple tasks, often when you need a quick, short function for a single operation. They do not require a function name, making them useful for short-lived tasks.\n",
        "- In short, def is used for more complex, reusable functions, while lambda is used for concise, one-time operations.\n",
        "\n",
        "#4 What is the purpose of the `return` statement in a Python function?\n",
        "- Return is a function used at the time of defining a function. It returns value when the function is called according to the value assigned. So while defining a function we write all the operation that a function is suppose to perform and the result when ready we use return function to tell the computer that this is the result that needs to returned when the function is called.\n",
        "\n",
        "#5 What are iterators in Python and how do they differ from iterables?\n",
        "- Iterators are the functions in python that automatically takes the **succeeding** value of an iterable and return it on command. For example for loop uses iterators at the backend to pick up value from an iterable and send them one by one. We can execute this with iter() and next() functions.\n",
        "- Whereas Iterables are the data types while allow iterators to come to them and take value from them one by one and return them. Examples- Lists, tuples, strings, dictionaries, sets.\n",
        "\n",
        "#6 Explain the concept of generators in Python and how they are defined.\n",
        "- In Python, generators are a way to create sequences of values without storing them all in memory. They use the yield keyword to return values one at a time. Instead of returning a list, a generator gives you one value when you ask for it and remembers its state. You can define a generator using a function with yield or use a generator expression inside parentheses (). Generators are useful when you have large data or want to save memory. You can loop through a generator using for, or use next() to get values one by one.\n",
        "\n",
        "#7 What are the advantages of using generators over regular functions?\n",
        "- Benefits are:-\n",
        "Better Ram usage. If a function runs that have a really large value the all that information need ram to be stored while compiler is still processing. If ram gets short then code wont be executed or printed. Where as if using a generator then a certain about is only used as it is iterated over once and get stoped using next() command.\n",
        "- Less load on computer - As the code is iterated only once, the computer doesnt the load of processing all the information at once.\n",
        "- Less time consumer - We get result faster.\n",
        "\n",
        "#8 What is a lambda function in Python and when is it typically used?\n",
        "- A lambda function in Python is a small, one-line function that is defined using the lambda keyword. Unlike regular functions, which use def, lambda functions are simple and only perform one operation. They are often used when you need a quick function for a short task. The syntax is: lambda arguments: expression. For example, add = lambda x, y: x + y creates a function that adds two numbers. Lambda functions are useful in cases where you need a function for sorting, mapping, or filtering items without creating a full function using def. They are efficient and concise.\n",
        "\n",
        "#9 Explain the purpose and usage of the `map()` function in Python.\n",
        "-The map() function in Python is used to apply a given function to each item in an iterable, like a list or tuple. It returns a map object, which you can easily convert into a list or other data types. It’s really helpful when you want to perform the same operation on all elements in an iterable without using a loop. For example, you can use map() to double every number in a list.\n",
        "numbers = [1, 2, 3]\n",
        "result = list(map(lambda x: x * 2, numbers))\n",
        "print(result)\n",
        "\n",
        "#10 What is the difference between map(), reduce(), and filter() functions in Python?\n",
        "-In Python, map(), reduce(), and filter() are all builtin functions used to work with iterables and have different uses except reduce that needs to be imported.\n",
        "\n",
        "- map()- It applies a given function to each item in an iterable and returns an iterator that yields the results. It’s useful when you want to perform the same operation on every element.\n",
        "\n",
        "\n",
        "- reduce()- It applies a function cumulatively to the items of an iterable, reducing it to a single value. It’s part of the functools module.\n",
        "\n",
        "\n",
        "- filter()- It filters elements from an iterable based on a condition (function that returns True or False).\n",
        "\n",
        "- so we can say that map() applies a function to all elements, reduce() reduces them to a single value, and filter() selects elements based on a condition.\n"
      ],
      "metadata": {
        "id": "l_UvR8YK7qdv"
      }
    }
  ]
}