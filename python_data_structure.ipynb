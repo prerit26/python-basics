{
  "nbformat": 4,
  "nbformat_minor": 0,
  "metadata": {
    "colab": {
      "provenance": []
    },
    "kernelspec": {
      "name": "python3",
      "display_name": "Python 3"
    },
    "language_info": {
      "name": "python"
    }
  },
  "cells": [
    {
      "cell_type": "markdown",
      "source": [
        "#python data structure"
      ],
      "metadata": {
        "id": "Kv1VP_PF8MZW"
      }
    },
    {
      "cell_type": "markdown",
      "source": [
        "#theory questions:-"
      ],
      "metadata": {
        "id": "CF5PFAQM8gjc"
      }
    },
    {
      "cell_type": "markdown",
      "source": [
        "#1 What are data structures, and why are they important?\n",
        "- When we oragnize and store data in python through the use of tools like lists, tuples, strings, sets, etc.\n",
        "-Efficient data management - Data structures are essential for managing large amounts of data efficiently.\n",
        "- Code optimization - Data structures help optimize code and make it more efficient.\n",
        "Real-world problem solving -\n",
        "Data structures and algorithms can help break down complex problems into smaller, more manageable tasks.\n",
        "-Building projects -\n",
        "Data structures and algorithms are needed to implement projects, whether they are beginner-level or enterprise-level.\n",
        "\n",
        "#2 Explain the difference between mutable and immutable data types with examples\n",
        "- Mutable data types are the types which can be changed after they have been created. Whereas immutable data types are the ones that are not to be changed after creation through codes like '.add', '.append', '.pop', etc.\n",
        "This immutability feature exists in python to safeguard from a scenario of data change by mistake that need not need change in future like university roll number, aadhar card number, employee unique identity number, etc.\n",
        "- Examples of data types which are mutable are sets, dictionaries, lists.\n",
        "- Examples of data types which are immutable are strings, tuples, frozenset, etc.\n",
        "\n",
        "#3 What are the main differences between lists and tuples in Python.\n",
        "- The main difference is that of mutability and immutability. List as we know are flexible, we can add, remove, pop, do other things with the element of a list. But that is not true with Tuple. Due to this reason a list cannot be a key in a dictionary but a tuple can be because of its immutability nature.\n",
        "\n",
        "#4 Describe how dictionaries store data\n",
        "- Dictionaries store data in the pairs of key and value which is in the format like this -> Dict1= {boy1: 5'6'', girl1: 5'5'', boy2:5'11'', girl2: 5'9''}.\n",
        "As given in above example there is either a boy or girl in key place and their height in value place, though this we can know that for example girl2 has 5'5'' height.\n",
        "- For the values stored in dictionaries, the keys become the index of the value.\n",
        "That means we can retreive information through the key and like in list 0,1,2... etc are not used to mark index.\n",
        "\n",
        "#5 Why might you use a set instead of a list in Python\n",
        "- We might use a set instead of a list in python when we want to avoid overcounting the same entry multiple times. Sets if given with same value to store doesnt duplicate the value but stores it onces only. So for example if we are making a grocery list asking every family member for their inputs, multiple members can give the same grocery item name. So here we can use a set instead of list to avoid duplication of value.\n",
        "\n",
        "#6 What is a string in Python, and how is it different from a list?\n",
        "-A string is a line of aplha-numeric value. We can use strings to give various values like names of people, animal, place, thing. We write it using double or single quotes(\",') Strings are immutable meaning once created cannot be changed.\n",
        "- Lists are of the nature which can store collection on various types of values like strings, integers, other lists, sets, etc. Lists are mutable unlike string.\n",
        "\n",
        "#7 How do tuples ensure data integrity in Python.\n",
        "- Tuples are immutable hence making them unabled to be changed once after creation. This ensures that tuple data will not be manupulated later on making it better choice for storing sensitive, important and non changing data like id card number. Information like address or phone number of a person can be changed making them suitable for storing in list but information like their college roll no, birth date, employee serial id doesnt change which can be stored in tuples.\n",
        "\n",
        "#8 What is a hash table, and how does it relate to dictionaries in Python.\n",
        "- Hash table is used in dictionaries in which there is a key and a value.\n",
        "Hash table plays the role of making the relationship from key to its value. It happens in the backend of python and not visible to the user, we can only see the results of the hash table which assigns keys as the index to the corresponding values.\n",
        "\n",
        "#9 Can lists contain different data types in Python.\n",
        "- Yes, list can contain all the types of data seperating them with commas.\n",
        "\n",
        "#10  Explain why strings are immutable in Python.\n",
        "- In Python, strings are made immutable so that programmers can't chanage the contents of the string by mistake. That's why when you try a code like str= 'abc' str(0)=z, it throws an error. It helps in setting them as keys in dictionaries because of its immutability.\n",
        "\n",
        "#11 What advantages do dictionaries offer over lists for certain tasks\n",
        "- Dictionaries can make pairs of data which lists cannot. In dictionaries these pairs are very useful for example we can make a dictionary like -> {ram:mohan, ramesh:suresh, ruchika: sujita, alexender:ronak}. This is a dictionaries which tells the name of the best friend of children. So we can just type the code of get the value of a key which will tell us his/her best friend name.\n",
        "-All of this is not possible in list where keys are only 0,1,2,3... etc.\n",
        "\n",
        "#12  Describe a scenario where using a tuple would be preferable over a list.\n",
        "- Suppose there is a market algorithm which tracks the nifty50 prices every second and stores it. The algorithm can use tuples to store the data as tuples allow ordering of data and are immutable. In this case tuple will be superior over list.\n",
        "\n",
        "#13 How do sets handle duplicate values in Python?\n",
        "- Sets dont store duplicate values instead they keep only one value if it has been inserted, every other input of duplicate nature is ignored and sets doesnt makes 2 or more copies of the same value inside them.\n",
        "\n",
        "#14 How does the “in” keyword work differently for lists and dictionaries?\n",
        "- In list in searches in the values but in the dictionaries case in searches in the keys for the given word. So even if the word is present but in the values of the dictionaries, the dictionaries will return false, which is not the case in list.\n",
        "\n",
        "#15 Can you modify the elements of a tuple? Explain why or why not.\n",
        "- No, you cannot change the elements of a tuple because tuples are unchangeable in Python. Once you create a tuple, its values stay the same forever. For example, if you have my_tuple = (1, 2, 3) and try to do my_tuple[0] = 10, it will give an error. This happens because tuples are made to be fixed and unchangeable. However, if a tuple has something like a list inside it, you can still change the list’s content. For example, in nested_tuple = ([1, 2], 3), you can do nested_tuple[0].append(4) to add to the list inside.\n",
        "\n",
        "#16 What is a nested dictionary, and give an example of its use case.\n",
        "- A nested dictionary is a dictionary inside another dictionary. It lets you organize data in a more detailed way. For example, you can store information about students, where each student has their own dictionary with their name, age, and grades. For example: students = {\"student_1\": {\"name\": \"Pankaj\", \"age\": 17}, \"student_2\": {\"name\": \"Shila\", \"age\": 16}}\n",
        "\n",
        "#17  Describe the time complexity of accessing elements in a dictionary\n",
        "- Accessing elements in a dictionary is usually very fast, with a time complexity of O(1). This means it takes the same amount of time to find a value, no matter how big the dictionary is. This is because dictionaries use something called a hash table, which allows the program to directly find the value using the key. However, in rare cases where multiple keys have the same hash (called a hash collision), the time to find the value could increase to O(n), where n is the number of items in the dictionary. But normally, it's very fast.\n",
        "\n",
        "#18 In what situations are lists preferred over dictionaries\n",
        "- Lists can matter over dictionaries when the data are simple, order matters and they needs to retrieved using the position of the input that is using the numerical indexes of lists rather than the key indexes of dictinaries.\n",
        "\n",
        "#19 Why are dictionaries considered unordered, and how does that affect data retrieval\n",
        "- It is because in the case of dictionaries ordering is not needed. All the values are linked with a key rather than rank of orderering. This is then at the time of retrieval we give the keys to retrieve data rather than index numbers(0,1,2,3,...).\n",
        "\n",
        "#20\n",
        "-The main difference between a list and a dictionary in terms of data retrieval is how they store and access information.\n",
        "\n",
        "-In a list, data is stored in a specific order, and you can access elements by their index (position). For example, you can get the first item in a list with my_list[0]. Lists are good when the order of items matters, and they allow you to access elements quickly using their position. However, the data is accessed by its order, not a unique name or label.\n",
        "\n",
        "-In a dictionary, data is stored as key-value pairs, meaning each value is linked to a key. You access the value using its key, like my_dict[\"name\"] to get \"Ram\". Dictionaries are fast for looking up values when you know the key. They don't depend on order like lists, but they are great when you need to find data.\n",
        "\n",
        "-In short, lists use positions, and dictionaries use keys for data retrieval."
      ],
      "metadata": {
        "id": "GklGqe_08j90"
      }
    },
    {
      "cell_type": "markdown",
      "source": [
        "#practical question answer"
      ],
      "metadata": {
        "id": "Cyw9dJjvjx1n"
      }
    },
    {
      "cell_type": "code",
      "source": [
        "#1 Write a code to create a string with your name and print it\n",
        "name = \"Prerit Bhageria\"\n",
        "print(name)\n",
        "\n",
        "#2 Write a code to find the length of the string \"Hello World\"\n",
        "string= \"Hello World\"\n",
        "print(len(string))\n",
        "\n",
        "#3 Write a code to slice the first 3 characters from the string \"Python Programming\".\n",
        "str2= \"Python Programming\"\n",
        "print(str2[0:3])\n",
        "\n",
        "#4 Write a code to convert the string \"hello\" to uppercaseE\n",
        "str3= \"hello\"\n",
        "str3= str3.upper()\n",
        "print(str3)\n",
        "\n",
        "#5 Write a code to replace the word \"apple\" with \"orange\" in the string \"I like apple\"\n",
        "str4= 'I like apple'\n",
        "str4= str4.replace('apple', 'orange')\n",
        "print(str4)\n",
        "\n",
        "#6 Write a code to create a list with numbers 1 to 5 and print it\n",
        "list1= [1,2,3,4,5]\n",
        "print(list1)\n",
        "\n",
        "#7 Write a code to append the number 10 to the list [1, 2, 3, 4]\n",
        "list2=[1,2,3,4]\n",
        "list2.append(10)\n",
        "print(list2)\n",
        "\n",
        "#8  Write a code to remove the number 3 from the list [1, 2, 3, 4, 5]\n",
        "list3= list1.copy()\n",
        "list3.remove(3)\n",
        "print(list3)\n",
        "\n",
        "#9 E Write a code to access the second element in the list ['a', 'b', 'c', 'd']\n",
        "list4=['a','b','c','d']\n",
        "print(list4[1])"
      ],
      "metadata": {
        "colab": {
          "base_uri": "https://localhost:8080/"
        },
        "id": "qx_QsJUH-7Ep",
        "outputId": "08ce9541-546d-4af5-dbe6-59f2a70eb730"
      },
      "execution_count": 15,
      "outputs": [
        {
          "output_type": "stream",
          "name": "stdout",
          "text": [
            "Prerit Bhageria\n",
            "11\n",
            "Pyt\n",
            "HELLO\n",
            "I like orange\n",
            "[1, 2, 3, 4, 5]\n",
            "[1, 2, 3, 4, 10]\n",
            "[1, 2, 4, 5]\n",
            "b\n"
          ]
        }
      ]
    },
    {
      "cell_type": "code",
      "source": [
        "#10 Write a code to reverse the list [10, 20, 30, 40, 50].\n",
        "list5=[10,20,30,40,50]\n",
        "list6=[]\n",
        "while list5:\n",
        "  list6.append(list5.pop())\n",
        "print(list6)\n",
        "#or\n",
        "list7=[10,20,30,40,50]\n",
        "reverselist= list7[::-1]\n",
        "print(reverselist)\n"
      ],
      "metadata": {
        "colab": {
          "base_uri": "https://localhost:8080/"
        },
        "id": "xD0Z0i1LA8_V",
        "outputId": "0ed0defc-e320-44ef-cd9b-5c9988d86923"
      },
      "execution_count": 27,
      "outputs": [
        {
          "output_type": "stream",
          "name": "stdout",
          "text": [
            "[50, 40, 30, 20, 10]\n",
            "[50, 40, 30, 20, 10]\n"
          ]
        }
      ]
    },
    {
      "cell_type": "code",
      "source": [
        "#11 Write a code to create a tuple with the elements 10, 20, 30 and print it\n",
        "tup=(10,20,30)\n",
        "print(tup)\n",
        "\n",
        "#12 Write a code to access the first element of the tuple ('apple', 'banana', 'cherry').\n",
        "tup2=('apple','banana','cherry')\n",
        "print(tup2[0])\n",
        "\n",
        "#13  Write a code to count how many times the number 2 appears in the tuple (1, 2, 3, 2, 4, 2)\n",
        "tup3= (1,2,3,2,4,2)\n",
        "print(tup3.count(2))\n",
        "\n",
        "#14 Write a code to find the index of the element \"cat\" in the tuple ('dog', 'cat', 'rabbit').\n",
        "tup4=('dog','cat','rabbit')\n",
        "print(tup4.index('cat'))\n",
        "\n",
        "#15 Write a code to check if the element \"banana\" is in the tuple ('apple', 'orange', 'banana').\n",
        "tup5=('apple','orange','banana')\n",
        "if \"banana\" in tup5:\n",
        "  print('yes, banana present in tuple')\n",
        "else:\n",
        "  print(\"banana not present in tuple\")\n",
        "\n"
      ],
      "metadata": {
        "colab": {
          "base_uri": "https://localhost:8080/"
        },
        "id": "OwTjVidfIt-w",
        "outputId": "a83e14a7-28ec-439e-ee5b-84724b0d7a6f"
      },
      "execution_count": 43,
      "outputs": [
        {
          "output_type": "stream",
          "name": "stdout",
          "text": [
            "(10, 20, 30)\n",
            "apple\n",
            "3\n",
            "1\n",
            "yes, banana present in tuple\n",
            "{1, 2, 3, 4, 5}\n"
          ]
        }
      ]
    },
    {
      "cell_type": "code",
      "source": [
        "#16 Write a code to create a set with the elements 1, 2, 3, 4, 5 and print it.\n",
        "set1= {1,2,3,4,5}\n",
        "print(set1)\n",
        "\n",
        "#17 Write a code to add the element 6 to the set {1, 2, 3, 4}\n",
        "set2= {1,2,3,4}\n",
        "set2.add(6)\n",
        "print(set2)\n"
      ],
      "metadata": {
        "colab": {
          "base_uri": "https://localhost:8080/"
        },
        "id": "azj6P1efL570",
        "outputId": "17c036d1-ca5b-4669-ad2f-3270ebe3373a"
      },
      "execution_count": 47,
      "outputs": [
        {
          "output_type": "stream",
          "name": "stdout",
          "text": [
            "{1, 2, 3, 4, 5}\n",
            "{1, 2, 3, 4, 6}\n"
          ]
        }
      ]
    }
  ]
}